{
 "cells": [
  {
   "cell_type": "markdown",
   "metadata": {},
   "source": [
    "\t#### The provided code is a Jupyter Notebook designed to convert PDF files to Markdown format and subsequently generate a vector database using the converted Markdown files."
   ]
  },
  {
   "cell_type": "code",
   "execution_count": 2,
   "metadata": {},
   "outputs": [],
   "source": [
    "import os\n",
    "from warnings import filterwarnings\n",
    "from dotenv import load_dotenv\n",
    "from docling.document_converter import DocumentConverter\n",
    "from llama_index.core import VectorStoreIndex, SimpleDirectoryReader, StorageContext\n",
    "from llama_index.embeddings.openai import OpenAIEmbedding\n",
    "from llama_index.llms.groq import Groq\n",
    "from llama_index.vector_stores.chroma import ChromaVectorStore\n",
    "import chromadb\n"
   ]
  },
  {
   "cell_type": "markdown",
   "metadata": {},
   "source": [
    "##### Configuration\n",
    "\n",
    "Configuration variables, including directories for input PDFs, output Markdown files, and the vector database. It also loads environment variables from a .env file and suppresses specific warnings to avoid cluttering the output."
   ]
  },
  {
   "cell_type": "code",
   "execution_count": 3,
   "metadata": {},
   "outputs": [],
   "source": [
    "INPUT_PDF_DIR = 'input/pdfs/'\n",
    "OUTPUT_MD_DIR = 'input/mds/'\n",
    "CHROMADB_DIR = 'database/vector_store/'\n",
    "CHROMADB_COLLECTION = 'rag_collection'\n",
    "\n",
    "load_dotenv()\n",
    "\n",
    "filterwarnings(action=\"ignore\", category=FutureWarning, module=\"easyocr\")\n",
    "os.environ[\"TOKENIZERS_PARALLELISM\"] = \"false\""
   ]
  },
  {
   "cell_type": "markdown",
   "metadata": {},
   "source": [
    "##### Function convert_pdfs_to_markdown\n",
    "\n",
    "That takes two arguments: the directory containing PDF files and the directory where the converted Markdown files will be saved. The function checks if the output directory exists and creates it if necessary. It then iterates over all PDF files in the input directory, converts each to Markdown using the DocumentConverter class, and saves the result in the output directory."
   ]
  },
  {
   "cell_type": "code",
   "execution_count": 1,
   "metadata": {},
   "outputs": [],
   "source": [
    "def convert_pdfs_to_markdown(pdf_dir, md_dir):\n",
    "\tif not os.path.exists(md_dir):\n",
    "\t\tos.makedirs(md_dir)\n",
    "\n",
    "\tpdf_files = [f for f in os.listdir(pdf_dir) if f.endswith('.pdf')]\n",
    "\tfor pdf_file in pdf_files:\n",
    "\t\tpdf_path = os.path.join(pdf_dir, pdf_file)\n",
    "\t\tmd_path = os.path.join(md_dir, f\"{os.path.splitext(pdf_file)[0]}.md\")\n",
    "\n",
    "\t\tif not os.path.exists(md_path):\n",
    "\t\t\tprint(f\"Converting `{pdf_file}` to Markdown ...\")\n",
    "\n",
    "\t\t\tdoc_converter = DocumentConverter()\n",
    "\t\t\tresult = doc_converter.convert(source=pdf_path)\n",
    "\t\t\t\n",
    "\t\t\twith open(md_path, 'w', encoding='utf-8') as md_file:\n",
    "\t\t\t\tmd_file.write(result.document.export_to_markdown())"
   ]
  },
  {
   "cell_type": "markdown",
   "metadata": {},
   "source": [
    "##### Executes the convert_pdfs_to_markdown function\n",
    "\n",
    "Converting all PDFs in the specified input directory to Markdown format and saving them in the output directory. The function prints messages to indicate the progress of the conversion process."
   ]
  },
  {
   "cell_type": "code",
   "execution_count": null,
   "metadata": {},
   "outputs": [],
   "source": [
    "convert_pdfs_to_markdown(INPUT_PDF_DIR, OUTPUT_MD_DIR)"
   ]
  },
  {
   "cell_type": "markdown",
   "metadata": {},
   "source": [
    "##### Initializes models and clients required for generating the vector database.\n",
    "\n",
    "It creates an embedding model using the OpenAI API and a language model using the Groq API. It then reads the converted Markdown documents from the output directory and loads them into a SimpleDirectoryReader.\n",
    "\n",
    "Next, the code initializes a ChromaDB client and creates or retrieves a collection within the database. It sets up a vector store using the ChromaDB collection and a storage context with default settings. Finally, it creates a VectorStoreIndex from the loaded documents, using the embedding model for vectorization. The process concludes with a print statement indicating that the vector database has been successfully generated.\n",
    "\n",
    "This notebook is intended to be run first in the project workflow, as it prepares the necessary data and vector database for subsequent tasks."
   ]
  },
  {
   "cell_type": "code",
   "execution_count": 6,
   "metadata": {},
   "outputs": [],
   "source": [
    "chroma_embed_model = OpenAIEmbedding(api_key=os.getenv(\"OPENAI_API_KEY\"))\n",
    "llm_model = Groq(model=\"llama3-70b-8192\", api_key=os.getenv(\"GROQ_API_KEY\"))\n",
    "\n",
    "documents = SimpleDirectoryReader(input_dir=OUTPUT_MD_DIR).load_data()\n",
    "\n",
    "chroma_client = chromadb.PersistentClient(path = CHROMADB_DIR)\n",
    "chroma_collection = chroma_client.get_or_create_collection(name=CHROMADB_COLLECTION)\n",
    "\n",
    "vector_store = ChromaVectorStore(chroma_collection = chroma_collection)\n",
    "storage_context = StorageContext.from_defaults(vector_store = vector_store)\n",
    "index = VectorStoreIndex.from_documents(documents, storage_context=storage_context, embed_model=chroma_embed_model)\n",
    "\n",
    "print(\"Vector database successfully generated!\")"
   ]
  }
 ],
 "metadata": {
  "kernelspec": {
   "display_name": "venv-rag-docling-llamaindex",
   "language": "python",
   "name": "python3"
  },
  "language_info": {
   "codemirror_mode": {
    "name": "ipython",
    "version": 3
   },
   "file_extension": ".py",
   "mimetype": "text/x-python",
   "name": "python",
   "nbconvert_exporter": "python",
   "pygments_lexer": "ipython3",
   "version": "3.12.7"
  }
 },
 "nbformat": 4,
 "nbformat_minor": 2
}
